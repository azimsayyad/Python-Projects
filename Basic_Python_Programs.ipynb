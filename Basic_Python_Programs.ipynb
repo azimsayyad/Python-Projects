{
  "nbformat": 4,
  "nbformat_minor": 0,
  "metadata": {
    "colab": {
      "name": "Basic Python Programs.ipynb",
      "provenance": [],
      "collapsed_sections": []
    },
    "kernelspec": {
      "name": "python3",
      "display_name": "Python 3"
    },
    "language_info": {
      "name": "python"
    }
  },
  "cells": [
    {
      "cell_type": "markdown",
      "source": [
        "#**Basic Python Programs**"
      ],
      "metadata": {
        "id": "rObBV2WIIsnH"
      }
    },
    {
      "cell_type": "markdown",
      "source": [
        "**Python program to add two numbers**"
      ],
      "metadata": {
        "id": "OMEhBfok1TFM"
      }
    },
    {
      "cell_type": "code",
      "execution_count": 36,
      "metadata": {
        "colab": {
          "base_uri": "https://localhost:8080/"
        },
        "id": "ilIdRARv1Plw",
        "outputId": "f2168f6b-cc55-4d88-8689-a8e6f0c11653"
      },
      "outputs": [
        {
          "output_type": "stream",
          "name": "stdout",
          "text": [
            "Enter any number: 10\n",
            "Enter any number: 20\n",
            "Addition of 10.0 and 20.0 is: 30.0\n"
          ]
        }
      ],
      "source": [
        "num1 = float(input(\"Enter any number: \"))\n",
        "num2 = float(input(\"Enter any number: \"))\n",
        "sum = num1 + num2\n",
        "print(\"Addition of {} and {} is: {}\".format(num1,num2,sum))"
      ]
    },
    {
      "cell_type": "markdown",
      "source": [
        "**Maximum of two numbers in Python**"
      ],
      "metadata": {
        "id": "mqy3jj_x1192"
      }
    },
    {
      "cell_type": "code",
      "source": [
        "num1 = float(input(\"Enter any number: \"))\n",
        "num2 = float(input(\"Enter any number: \"))\n",
        "if num1>num2:\n",
        "  print(\"{} is maximum\".format(num1))\n",
        "elif num2>num1:\n",
        "  print(\"{} is maximum\".format(num2))\n",
        "else:\n",
        "  print(\"{} is equal to {}\".format(num1,num2))"
      ],
      "metadata": {
        "colab": {
          "base_uri": "https://localhost:8080/"
        },
        "id": "jTUswF5l1uPi",
        "outputId": "28176011-906d-4af0-bdfc-b55c6d4ac310"
      },
      "execution_count": 37,
      "outputs": [
        {
          "output_type": "stream",
          "name": "stdout",
          "text": [
            "Enter any number: 10\n",
            "Enter any number: 20\n",
            "20.0 is maximum\n"
          ]
        }
      ]
    },
    {
      "cell_type": "markdown",
      "source": [
        "**Python Program for factorial of a number**"
      ],
      "metadata": {
        "id": "jOq4CNuh2SDY"
      }
    },
    {
      "cell_type": "code",
      "source": [
        "#1st Method Recursive approach\n",
        "def factorial(n):\n",
        "  if n == 1 or n == 0:\n",
        "    return 1\n",
        "  else:\n",
        "    return n*factorial(n-1)"
      ],
      "metadata": {
        "id": "ZnxFhc4H27oy"
      },
      "execution_count": 38,
      "outputs": []
    },
    {
      "cell_type": "code",
      "source": [
        "factorial(5)"
      ],
      "metadata": {
        "colab": {
          "base_uri": "https://localhost:8080/"
        },
        "id": "QTzh5G4N4lPY",
        "outputId": "c2962fff-57d9-4bfb-ab59-990f30a0b40a"
      },
      "execution_count": 39,
      "outputs": [
        {
          "output_type": "execute_result",
          "data": {
            "text/plain": [
              "120"
            ]
          },
          "metadata": {},
          "execution_count": 39
        }
      ]
    },
    {
      "cell_type": "code",
      "source": [
        "#2nd Method Iterative approach\n",
        "n = int(input(\"Enter any number: \"))\n",
        "a = n\n",
        "fact = 1\n",
        "if n==0 or n==1:\n",
        "  print(\"Factorial of {} is {}\".format(a,fact))\n",
        "elif n<0:\n",
        "  print(\"Kindly enter positive number\")\n",
        "else:\n",
        "  while(n>1):\n",
        "    fact = fact*n\n",
        "    n = n-1\n",
        "  print(\"Factorial of {} is {}\".format(a,fact))"
      ],
      "metadata": {
        "colab": {
          "base_uri": "https://localhost:8080/"
        },
        "id": "X0wbMr-I8YWQ",
        "outputId": "eb1155c7-55af-4121-f015-f650e999de3f"
      },
      "execution_count": 40,
      "outputs": [
        {
          "output_type": "stream",
          "name": "stdout",
          "text": [
            "Enter any number: 5\n",
            "Factorial of 5 is 120\n"
          ]
        }
      ]
    },
    {
      "cell_type": "markdown",
      "source": [
        "**Python Program for simple interest**"
      ],
      "metadata": {
        "id": "fkvokBuk_IJT"
      }
    },
    {
      "cell_type": "code",
      "source": [
        "def simpleinterest():\n",
        "  p = float(input(\"Enter the principal amount: \"))\n",
        "  r = float(input(\"Enter the rate of interest in: \"))\n",
        "  n = float(input(\"Enter the duration in years: \"))\n",
        "  SI = (p*r*n)/100\n",
        "  print(\"The Simple Interest is: {}\".format(SI))"
      ],
      "metadata": {
        "id": "UuOLO_VS_ZN1"
      },
      "execution_count": 41,
      "outputs": []
    },
    {
      "cell_type": "code",
      "source": [
        "simpleinterest()"
      ],
      "metadata": {
        "colab": {
          "base_uri": "https://localhost:8080/"
        },
        "id": "_idJVJ1GANai",
        "outputId": "5b724acc-15be-481c-81fa-2ab11a49f2f7"
      },
      "execution_count": 42,
      "outputs": [
        {
          "output_type": "stream",
          "name": "stdout",
          "text": [
            "Enter the principal amount: 50000\n",
            "Enter the rate of interest in: 2.65\n",
            "Enter the duration in years: 5\n",
            "The Simple Interest is: 6625.0\n"
          ]
        }
      ]
    },
    {
      "cell_type": "markdown",
      "source": [
        "**Python Program for compound interest**"
      ],
      "metadata": {
        "id": "WeDJwzRtDLlk"
      }
    },
    {
      "cell_type": "code",
      "source": [
        "def compound_interest():\n",
        "  p = int(input(\"Enter principal amount: \"))\n",
        "  r = float(input(\"Enter the rate of interest: \"))\n",
        "  t = float(input(\"Enter the time/duration in years: \"))\n",
        "  A = p*(1+(r/100))**t\n",
        "  CI = A-p\n",
        "  print(\"The Compound Interest is: {}\".format(round(CI,2)))"
      ],
      "metadata": {
        "id": "vJzOXuKHBezE"
      },
      "execution_count": 43,
      "outputs": []
    },
    {
      "cell_type": "code",
      "source": [
        "compound_interest()"
      ],
      "metadata": {
        "colab": {
          "base_uri": "https://localhost:8080/"
        },
        "id": "8f7kwCr1IFNu",
        "outputId": "c1604aa7-2854-444a-cec5-960fc883285a"
      },
      "execution_count": 44,
      "outputs": [
        {
          "output_type": "stream",
          "name": "stdout",
          "text": [
            "Enter principal amount: 5000\n",
            "Enter the rate of interest: 2.65\n",
            "Enter the time/duration in years: 5\n",
            "The Compound Interest is: 698.56\n"
          ]
        }
      ]
    },
    {
      "cell_type": "markdown",
      "source": [
        "**Python Program to check Armstrong Number**"
      ],
      "metadata": {
        "id": "MIk32azTJhHR"
      }
    },
    {
      "cell_type": "code",
      "source": [
        "n = int(input(\"Enter any number: \"))\n",
        "a = n\n",
        "sum = 0\n",
        "while n>0:\n",
        "  d = n%10\n",
        "  sum = sum + d**3\n",
        "  n = n//10\n",
        "if a == sum:\n",
        "  print(\"{} is an armstrong number\".format(a))\n",
        "else:\n",
        "  print(\"{} is not an armstrong number\".format(a))\n",
        "\n"
      ],
      "metadata": {
        "colab": {
          "base_uri": "https://localhost:8080/"
        },
        "id": "k0e2mzYqJS1G",
        "outputId": "ebc8a29a-abd0-4478-937b-e17ff37d4f24"
      },
      "execution_count": 45,
      "outputs": [
        {
          "output_type": "stream",
          "name": "stdout",
          "text": [
            "Enter any number: 153\n",
            "153 is an armstrong number\n"
          ]
        }
      ]
    },
    {
      "cell_type": "markdown",
      "source": [
        "**Python Program for Program to find area of a circle**"
      ],
      "metadata": {
        "id": "myAVj5oHPQwZ"
      }
    },
    {
      "cell_type": "code",
      "source": [
        "def area_of_circle():\n",
        "  r = float(input(\"Enter the radius of a circle in cm: \"))\n",
        "  A = (22/7)*r*r\n",
        "  print(\"The Area of circle is {} sq.cm\".format(round(A,2)))"
      ],
      "metadata": {
        "id": "ww1AO2l7PGN8"
      },
      "execution_count": 46,
      "outputs": []
    },
    {
      "cell_type": "code",
      "source": [
        "area_of_circle()"
      ],
      "metadata": {
        "colab": {
          "base_uri": "https://localhost:8080/"
        },
        "id": "iR-Lw8SiQUYz",
        "outputId": "0191af30-21fd-487f-b5b2-c00114bc27d5"
      },
      "execution_count": 47,
      "outputs": [
        {
          "output_type": "stream",
          "name": "stdout",
          "text": [
            "Enter the radius of a circle in cm: 5\n",
            "The Area of circle is 78.57 sq.cm\n"
          ]
        }
      ]
    },
    {
      "cell_type": "markdown",
      "source": [
        "**Python program to print all Prime numbers in an Interval**"
      ],
      "metadata": {
        "id": "aH52eZ5eQ78w"
      }
    },
    {
      "cell_type": "code",
      "source": [
        "init = int(input(\"Please enter the start of an interval: \"))\n",
        "final = int(input(\"Please enter the end of an interval: \"))\n",
        "sum = []\n",
        "for i in range(init,final+1):\n",
        "  if i==1:\n",
        "    continue\n",
        "  elif i==2 or i==3 or i==5 or i==7:\n",
        "    sum.append(i)\n",
        "  elif i%2 !=0 and i%3 !=0 and i%5 !=0 and i%7 !=0:\n",
        "    sum.append(i)\n",
        "if len(sum) == 0:\n",
        "  print(\"There are no prime number in mentioned interval\")\n",
        "else:\n",
        "  print(\"All prime numbers in interval are:\",sum)"
      ],
      "metadata": {
        "colab": {
          "base_uri": "https://localhost:8080/"
        },
        "id": "PPoJHdWwQ05c",
        "outputId": "9f674328-9e3e-42e6-f5f8-cafe64be2174"
      },
      "execution_count": 48,
      "outputs": [
        {
          "output_type": "stream",
          "name": "stdout",
          "text": [
            "Please enter the start of an interval: 1\n",
            "Please enter the end of an interval: 50\n",
            "All prime numbers in interval are: [2, 3, 5, 7, 11, 13, 17, 19, 23, 29, 31, 37, 41, 43, 47]\n"
          ]
        }
      ]
    },
    {
      "cell_type": "markdown",
      "source": [
        "**Python program to check whether a number is Prime or not**"
      ],
      "metadata": {
        "id": "WZqDe64MW_PW"
      }
    },
    {
      "cell_type": "code",
      "source": [
        "num = int(input(\"Enter any number: \"))\n",
        "if num==1:\n",
        "  print(\"{} is neither prime nor composite\".format(num))\n",
        "elif num==2 or num==3 or num==5 or num==7:\n",
        "  print(\"{} is a prime number\".format(num))\n",
        "elif num%2 !=0 and num%3 !=0 and num%5 !=0 and num%7 !=0:\n",
        "  print(\"{} is a prime number\".format(num))\n",
        "else:\n",
        "  print(\"{} is not a prime number\".format(num))"
      ],
      "metadata": {
        "colab": {
          "base_uri": "https://localhost:8080/"
        },
        "id": "tPmCwHKVT63Z",
        "outputId": "1121bf55-c8af-4a72-ae1b-8266773143b6"
      },
      "execution_count": 49,
      "outputs": [
        {
          "output_type": "stream",
          "name": "stdout",
          "text": [
            "Enter any number: 51\n",
            "51 is not a prime number\n"
          ]
        }
      ]
    },
    {
      "cell_type": "markdown",
      "source": [
        "**Python Program for n-th Fibonacci number**"
      ],
      "metadata": {
        "id": "NhViNyU5CIV-"
      }
    },
    {
      "cell_type": "code",
      "source": [
        "user = int(input(\"Enter the length for fibonacci sequence: \"))\n",
        "a = 0\n",
        "b = 1\n",
        "print(a)\n",
        "print(b)\n",
        "for i in range(0,user-2):\n",
        "  c = a+b\n",
        "  print(c)\n",
        "  a = b\n",
        "  b = c"
      ],
      "metadata": {
        "colab": {
          "base_uri": "https://localhost:8080/"
        },
        "id": "NW_hEeCLCL8A",
        "outputId": "b2bbd610-8c1e-4a4b-d1a5-add3c87c1d37"
      },
      "execution_count": 50,
      "outputs": [
        {
          "output_type": "stream",
          "name": "stdout",
          "text": [
            "Enter the length for fibonacci sequence: 10\n",
            "0\n",
            "1\n",
            "1\n",
            "2\n",
            "3\n",
            "5\n",
            "8\n",
            "13\n",
            "21\n",
            "34\n"
          ]
        }
      ]
    },
    {
      "cell_type": "markdown",
      "source": [
        "**Program to print ASCII Value of a character**"
      ],
      "metadata": {
        "id": "F08WMO1tFDD7"
      }
    },
    {
      "cell_type": "code",
      "source": [
        "c = input(\"Enter any character: \")\n",
        "print(\"The ASCII value for \"+ c +\" is\",ord(c)) "
      ],
      "metadata": {
        "colab": {
          "base_uri": "https://localhost:8080/"
        },
        "id": "akaqgfEWFASp",
        "outputId": "5b917755-0d08-4cd7-8c67-77eed42e40c9"
      },
      "execution_count": 54,
      "outputs": [
        {
          "output_type": "stream",
          "name": "stdout",
          "text": [
            "Enter any character: z\n",
            "The ASCII value for z is 122\n"
          ]
        }
      ]
    },
    {
      "cell_type": "markdown",
      "source": [
        "**Python Program for Sum of squares of first n natural numbers**"
      ],
      "metadata": {
        "id": "6VghUuNMGasA"
      }
    },
    {
      "cell_type": "code",
      "source": [
        "user = int(input(\"Enter number until which we need sum of squares: \"))\n",
        "sum = 0\n",
        "for i in range(1,user+1):\n",
        "  sum = sum + i**2\n",
        "print(sum)"
      ],
      "metadata": {
        "colab": {
          "base_uri": "https://localhost:8080/"
        },
        "id": "6mP2t1o-FRPC",
        "outputId": "65d9fb2a-fc08-44e4-8e80-1ba6dcd2244b"
      },
      "execution_count": 55,
      "outputs": [
        {
          "output_type": "stream",
          "name": "stdout",
          "text": [
            "Enter number until which we need sum of squares: 5\n",
            "55\n"
          ]
        }
      ]
    },
    {
      "cell_type": "markdown",
      "source": [
        "**Python Program for cube sum of first n natural numbers**"
      ],
      "metadata": {
        "id": "npQ6G41nHnyL"
      }
    },
    {
      "cell_type": "code",
      "source": [
        "user = int(input(\"Enter number until which we need sum of squares: \"))\n",
        "sum = 0\n",
        "for i in range(1,user+1):\n",
        "  sum = sum + i**3\n",
        "print(sum)"
      ],
      "metadata": {
        "colab": {
          "base_uri": "https://localhost:8080/"
        },
        "id": "SH8-Wjy8HO_Z",
        "outputId": "49b05043-3427-47c9-deac-7b8a472fc343"
      },
      "execution_count": 56,
      "outputs": [
        {
          "output_type": "stream",
          "name": "stdout",
          "text": [
            "Enter number until which we need sum of squares: 5\n",
            "225\n"
          ]
        }
      ]
    }
  ]
}